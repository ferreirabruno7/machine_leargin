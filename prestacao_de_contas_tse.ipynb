{
  "nbformat": 4,
  "nbformat_minor": 0,
  "metadata": {
    "kernelspec": {
      "display_name": "Python 3",
      "language": "python",
      "name": "python3"
    },
    "language_info": {
      "codemirror_mode": {
        "name": "ipython",
        "version": 3
      },
      "file_extension": ".py",
      "mimetype": "text/x-python",
      "name": "python",
      "nbconvert_exporter": "python",
      "pygments_lexer": "ipython3",
      "version": "3.7.3"
    },
    "colab": {
      "name": "prestacao_de_contas_tse.ipynb",
      "provenance": [],
      "include_colab_link": true
    }
  },
  "cells": [
    {
      "cell_type": "markdown",
      "metadata": {
        "id": "view-in-github",
        "colab_type": "text"
      },
      "source": [
        "<a href=\"https://colab.research.google.com/github/ferreirabruno7/machine_learning/blob/master/prestacao_de_contas_tse.ipynb\" target=\"_parent\"><img src=\"https://colab.research.google.com/assets/colab-badge.svg\" alt=\"Open In Colab\"/></a>"
      ]
    },
    {
      "cell_type": "code",
      "metadata": {
        "id": "IFpYUHpJlNeY",
        "colab_type": "code",
        "colab": {}
      },
      "source": [
        "#importação de bibliotecas de extração de dados e suporte\n",
        "from io import BytesIO\n",
        "from urllib.request import urlopen\n",
        "from zipfile import ZipFile\n",
        "import glob\n",
        "import pandas as pd\n",
        "import functools\n",
        "import seaborn as sns\n",
        "import matplotlib.pyplot as plt\n",
        "%matplotlib inline\n"
      ],
      "execution_count": 0,
      "outputs": []
    },
    {
      "cell_type": "code",
      "metadata": {
        "id": "6gsw1o5ilNeb",
        "colab_type": "code",
        "colab": {}
      },
      "source": [
        "#download e extração dados de votos\n",
        "\n",
        "zipurl = 'http://agencia.tse.jus.br/estatistica/sead/odsele/votacao_candidato_munzona/votacao_candidato_munzona_2018.zip'\n",
        "with urlopen(zipurl) as zipresp:\n",
        "    with ZipFile(BytesIO(zipresp.read())) as zfile:\n",
        "        zfile.extractall('C:/Users/Bruno Ferreira/Documents/dados_eleitorais/votacao')"
      ],
      "execution_count": 0,
      "outputs": []
    },
    {
      "cell_type": "code",
      "metadata": {
        "id": "R0pOV2z6lNed",
        "colab_type": "code",
        "colab": {}
      },
      "source": [
        "#prestação de contas da campanha\n",
        "zipurl = 'http://agencia.tse.jus.br/estatistica/sead/odsele/prestacao_contas/prestacao_de_contas_eleitorais_candidatos_2018.zip'\n",
        "with urlopen(zipurl) as zipresp:\n",
        "    with ZipFile(BytesIO(zipresp.read())) as zfile:\n",
        "        zfile.extractall('C:/Users/Bruno Ferreira/Documents/dados_eleitorais/prestacao_de_contas')"
      ],
      "execution_count": 0,
      "outputs": []
    },
    {
      "cell_type": "code",
      "metadata": {
        "id": "0vZfi7C0lNee",
        "colab_type": "code",
        "colab": {}
      },
      "source": [
        "#junção de dados em único data_frame das receitas\n",
        "df = pd.concat(map(functools.partial(pd.read_csv, sep='|', delimiter = ';', encoding='iso-8859-1', decimal=','), \n",
        "                    glob.glob(\"C:/Users/Bruno Ferreira/Documents/dados_eleitorais/prestacao_de_contas/*.csv\")))"
      ],
      "execution_count": 0,
      "outputs": []
    },
    {
      "cell_type": "code",
      "metadata": {
        "id": "sWlNW78_lNeg",
        "colab_type": "code",
        "colab": {}
      },
      "source": [
        "#junção de dados em único data_frame dos votos\n",
        "df2 = pd.concat(map(functools.partial(pd.read_csv, sep='|', delimiter = ';', encoding='iso-8859-1', decimal=','), \n",
        "                    glob.glob(\"C:/Users/Bruno Ferreira/Documents/dados_eleitorais/votacao/*.csv\")))"
      ],
      "execution_count": 0,
      "outputs": []
    },
    {
      "cell_type": "code",
      "metadata": {
        "id": "Vlx5cf0rlNei",
        "colab_type": "code",
        "colab": {},
        "outputId": "9ac808a7-d3a7-46f3-bb7c-14b24b31bce4"
      },
      "source": [
        "#informações dataframe prestação de contas\n",
        "df.info()"
      ],
      "execution_count": 0,
      "outputs": [
        {
          "output_type": "stream",
          "text": [
            "<class 'pandas.core.frame.DataFrame'>\n",
            "Int64Index: 648342 entries, 0 to 3926\n",
            "Data columns (total 57 columns):\n",
            "DT_GERACAO                     648342 non-null object\n",
            "HH_GERACAO                     648342 non-null object\n",
            "ANO_ELEICAO                    648342 non-null int64\n",
            "CD_TIPO_ELEICAO                648342 non-null int64\n",
            "NM_TIPO_ELEICAO                648342 non-null object\n",
            "CD_ELEICAO                     648342 non-null int64\n",
            "DS_ELEICAO                     648342 non-null object\n",
            "DT_ELEICAO                     648342 non-null object\n",
            "ST_TURNO                       648342 non-null int64\n",
            "TP_PRESTACAO_CONTAS            648342 non-null object\n",
            "DT_PRESTACAO_CONTAS            648342 non-null object\n",
            "SQ_PRESTADOR_CONTAS            648342 non-null int64\n",
            "SG_UF                          648342 non-null object\n",
            "SG_UE                          648342 non-null object\n",
            "NM_UE                          648342 non-null object\n",
            "NR_CNPJ_PRESTADOR_CONTA        648342 non-null int64\n",
            "CD_CARGO                       648342 non-null int64\n",
            "DS_CARGO                       648342 non-null object\n",
            "SQ_CANDIDATO                   648342 non-null int64\n",
            "NR_CANDIDATO                   648342 non-null int64\n",
            "NM_CANDIDATO                   648342 non-null object\n",
            "NR_CPF_CANDIDATO               648342 non-null int64\n",
            "NR_CPF_VICE_CANDIDATO          648342 non-null int64\n",
            "NR_PARTIDO                     648342 non-null int64\n",
            "SG_PARTIDO                     648342 non-null object\n",
            "NM_PARTIDO                     648342 non-null object\n",
            "CD_FONTE_RECEITA               648342 non-null int64\n",
            "DS_FONTE_RECEITA               648342 non-null object\n",
            "CD_ORIGEM_RECEITA              648342 non-null int64\n",
            "DS_ORIGEM_RECEITA              648342 non-null object\n",
            "CD_NATUREZA_RECEITA            648342 non-null int64\n",
            "DS_NATUREZA_RECEITA            648342 non-null object\n",
            "CD_ESPECIE_RECEITA             648342 non-null int64\n",
            "DS_ESPECIE_RECEITA             648342 non-null object\n",
            "CD_CNAE_DOADOR                 648342 non-null int64\n",
            "DS_CNAE_DOADOR                 648342 non-null object\n",
            "NR_CPF_CNPJ_DOADOR             648342 non-null int64\n",
            "NM_DOADOR                      648342 non-null object\n",
            "NM_DOADOR_RFB                  648342 non-null object\n",
            "CD_ESFERA_PARTIDARIA_DOADOR    648342 non-null object\n",
            "DS_ESFERA_PARTIDARIA_DOADOR    648342 non-null object\n",
            "SG_UF_DOADOR                   648342 non-null object\n",
            "CD_MUNICIPIO_DOADOR            648342 non-null int64\n",
            "NM_MUNICIPIO_DOADOR            648342 non-null object\n",
            "SQ_CANDIDATO_DOADOR            648342 non-null int64\n",
            "NR_CANDIDATO_DOADOR            648342 non-null int64\n",
            "CD_CARGO_CANDIDATO_DOADOR      648342 non-null int64\n",
            "DS_CARGO_CANDIDATO_DOADOR      648342 non-null object\n",
            "NR_PARTIDO_DOADOR              648342 non-null int64\n",
            "SG_PARTIDO_DOADOR              648342 non-null object\n",
            "NM_PARTIDO_DOADOR              648342 non-null object\n",
            "NR_RECIBO_DOACAO               648342 non-null object\n",
            "NR_DOCUMENTO_DOACAO            648342 non-null object\n",
            "SQ_RECEITA                     648342 non-null int64\n",
            "DT_RECEITA                     648342 non-null object\n",
            "DS_RECEITA                     648342 non-null object\n",
            "VR_RECEITA                     648342 non-null float64\n",
            "dtypes: float64(1), int64(24), object(32)\n",
            "memory usage: 286.9+ MB\n"
          ],
          "name": "stdout"
        }
      ]
    },
    {
      "cell_type": "code",
      "metadata": {
        "id": "4hUeaiR1lNek",
        "colab_type": "code",
        "colab": {},
        "outputId": "5464af13-2002-4e7d-8c6f-7986fffc4eb5"
      },
      "source": [
        "#informações dataframe votos por seção\n",
        "df2.info()"
      ],
      "execution_count": 0,
      "outputs": [
        {
          "output_type": "stream",
          "text": [
            "<class 'pandas.core.frame.DataFrame'>\n",
            "Int64Index: 18122096 entries, 0 to 43819\n",
            "Data columns (total 38 columns):\n",
            "DT_GERACAO                  object\n",
            "HH_GERACAO                  object\n",
            "ANO_ELEICAO                 int64\n",
            "CD_TIPO_ELEICAO             int64\n",
            "NM_TIPO_ELEICAO             object\n",
            "NR_TURNO                    int64\n",
            "CD_ELEICAO                  int64\n",
            "DS_ELEICAO                  object\n",
            "DT_ELEICAO                  object\n",
            "TP_ABRANGENCIA              object\n",
            "SG_UF                       object\n",
            "SG_UE                       object\n",
            "NM_UE                       object\n",
            "CD_MUNICIPIO                int64\n",
            "NM_MUNICIPIO                object\n",
            "NR_ZONA                     int64\n",
            "CD_CARGO                    int64\n",
            "DS_CARGO                    object\n",
            "SQ_CANDIDATO                int64\n",
            "NR_CANDIDATO                int64\n",
            "NM_CANDIDATO                object\n",
            "NM_URNA_CANDIDATO           object\n",
            "NM_SOCIAL_CANDIDATO         object\n",
            "CD_SITUACAO_CANDIDATURA     int64\n",
            "DS_SITUACAO_CANDIDATURA     object\n",
            "CD_DETALHE_SITUACAO_CAND    int64\n",
            "DS_DETALHE_SITUACAO_CAND    object\n",
            "TP_AGREMIACAO               object\n",
            "NR_PARTIDO                  int64\n",
            "SG_PARTIDO                  object\n",
            "NM_PARTIDO                  object\n",
            "SQ_COLIGACAO                int64\n",
            "NM_COLIGACAO                object\n",
            "DS_COMPOSICAO_COLIGACAO     object\n",
            "CD_SIT_TOT_TURNO            int64\n",
            "DS_SIT_TOT_TURNO            object\n",
            "ST_VOTO_EM_TRANSITO         object\n",
            "QT_VOTOS_NOMINAIS           int64\n",
            "dtypes: int64(15), object(23)\n",
            "memory usage: 5.3+ GB\n"
          ],
          "name": "stdout"
        }
      ]
    },
    {
      "cell_type": "code",
      "metadata": {
        "id": "O332UIeMlNen",
        "colab_type": "code",
        "colab": {}
      },
      "source": [
        "#deixando nome único com base no datraframe da receira\n",
        "numero_partido = df['NM_CANDIDATO'].unique()"
      ],
      "execution_count": 0,
      "outputs": []
    },
    {
      "cell_type": "code",
      "metadata": {
        "id": "2A-7M20dlNep",
        "colab_type": "code",
        "colab": {},
        "outputId": "16a922e3-a041-487f-f268-e2172a4ddc0a"
      },
      "source": [
        "numero_partido"
      ],
      "execution_count": 0,
      "outputs": [
        {
          "output_type": "execute_result",
          "data": {
            "text/plain": [
              "array(['BLANDINA MARIA MENEZES DA SILVA E SILVA',\n",
              "       'JOAO BATISTA PEREIRA DA SILVA', 'ELY ALVES VIEIRA', ...,\n",
              "       'RENE CASEMIRO', 'NAIARA LOURENÇO',\n",
              "       'THIAGO GOMES BANDEIRA LACERDA'], dtype=object)"
            ]
          },
          "metadata": {
            "tags": []
          },
          "execution_count": 56
        }
      ]
    },
    {
      "cell_type": "code",
      "metadata": {
        "id": "1zsBxaETlNeq",
        "colab_type": "code",
        "colab": {},
        "outputId": "257b6b4e-f2bd-4625-ebe7-efdbb3a5975b"
      },
      "source": [
        "#deixando nome único com base no datraframe da receira\n",
        "\n",
        "dataframe=pd.DataFrame(numero_partido, columns=['NM_CANDIDATO']) \n",
        "dataframe.info()"
      ],
      "execution_count": 0,
      "outputs": [
        {
          "output_type": "stream",
          "text": [
            "<class 'pandas.core.frame.DataFrame'>\n",
            "RangeIndex: 24301 entries, 0 to 24300\n",
            "Data columns (total 1 columns):\n",
            "NM_CANDIDATO    24301 non-null object\n",
            "dtypes: object(1)\n",
            "memory usage: 189.9+ KB\n"
          ],
          "name": "stdout"
        }
      ]
    },
    {
      "cell_type": "code",
      "metadata": {
        "id": "QKdoIaHalNes",
        "colab_type": "code",
        "colab": {},
        "outputId": "58f1e708-7659-4099-af4c-80337cd15c06"
      },
      "source": [
        "#construindo novo data frame com base no nome dos candidatos e receita\n",
        "result = pd.merge(dataframe,\n",
        "                 df[['NM_CANDIDTO', 'VR_RECEITA']],\n",
        "                 on='NM_CANDIDATO')\n",
        "result.head(5)"
      ],
      "execution_count": 0,
      "outputs": [
        {
          "output_type": "execute_result",
          "data": {
            "text/html": [
              "<div>\n",
              "<style scoped>\n",
              "    .dataframe tbody tr th:only-of-type {\n",
              "        vertical-align: middle;\n",
              "    }\n",
              "\n",
              "    .dataframe tbody tr th {\n",
              "        vertical-align: top;\n",
              "    }\n",
              "\n",
              "    .dataframe thead th {\n",
              "        text-align: right;\n",
              "    }\n",
              "</style>\n",
              "<table border=\"1\" class=\"dataframe\">\n",
              "  <thead>\n",
              "    <tr style=\"text-align: right;\">\n",
              "      <th></th>\n",
              "      <th>NM_CANDIDATO</th>\n",
              "      <th>VR_RECEITA</th>\n",
              "    </tr>\n",
              "  </thead>\n",
              "  <tbody>\n",
              "    <tr>\n",
              "      <th>0</th>\n",
              "      <td>BLANDINA MARIA MENEZES DA SILVA E SILVA</td>\n",
              "      <td>100000.0</td>\n",
              "    </tr>\n",
              "    <tr>\n",
              "      <th>1</th>\n",
              "      <td>BLANDINA MARIA MENEZES DA SILVA E SILVA</td>\n",
              "      <td>8000.0</td>\n",
              "    </tr>\n",
              "    <tr>\n",
              "      <th>2</th>\n",
              "      <td>BLANDINA MARIA MENEZES DA SILVA E SILVA</td>\n",
              "      <td>10000.0</td>\n",
              "    </tr>\n",
              "    <tr>\n",
              "      <th>3</th>\n",
              "      <td>BLANDINA MARIA MENEZES DA SILVA E SILVA</td>\n",
              "      <td>49986.8</td>\n",
              "    </tr>\n",
              "    <tr>\n",
              "      <th>4</th>\n",
              "      <td>BLANDINA MARIA MENEZES DA SILVA E SILVA</td>\n",
              "      <td>100000.0</td>\n",
              "    </tr>\n",
              "  </tbody>\n",
              "</table>\n",
              "</div>"
            ],
            "text/plain": [
              "                              NM_CANDIDATO  VR_RECEITA\n",
              "0  BLANDINA MARIA MENEZES DA SILVA E SILVA    100000.0\n",
              "1  BLANDINA MARIA MENEZES DA SILVA E SILVA      8000.0\n",
              "2  BLANDINA MARIA MENEZES DA SILVA E SILVA     10000.0\n",
              "3  BLANDINA MARIA MENEZES DA SILVA E SILVA     49986.8\n",
              "4  BLANDINA MARIA MENEZES DA SILVA E SILVA    100000.0"
            ]
          },
          "metadata": {
            "tags": []
          },
          "execution_count": 88
        }
      ]
    },
    {
      "cell_type": "code",
      "metadata": {
        "id": "WORhIDc1lNeu",
        "colab_type": "code",
        "colab": {},
        "outputId": "7d5d914a-60a3-4346-a899-0936dcb7f3c7"
      },
      "source": [
        "#inspeciona novo data frame\n",
        "geral_receita = result.groupby('NM_CANDIDATO',  as_index=False).agg({\"VR_RECEITA\": \"sum\"})\n",
        "geral_receita.info()"
      ],
      "execution_count": 0,
      "outputs": [
        {
          "output_type": "stream",
          "text": [
            "<class 'pandas.core.frame.DataFrame'>\n",
            "Int64Index: 24301 entries, 0 to 24300\n",
            "Data columns (total 2 columns):\n",
            "NM_CANDIDATO    24301 non-null object\n",
            "VR_RECEITA      24301 non-null float64\n",
            "dtypes: float64(1), object(1)\n",
            "memory usage: 569.6+ KB\n"
          ],
          "name": "stdout"
        }
      ]
    },
    {
      "cell_type": "code",
      "metadata": {
        "id": "fOvJK1inlNew",
        "colab_type": "code",
        "colab": {},
        "outputId": "7e28b5ef-ccee-4499-868b-b5b9269636b4"
      },
      "source": [
        "#construindo data frame com base nos nomes do candidatos e quantidade de votos por UF\n",
        "\n",
        "geral_votos = df2.groupby(['NM_CANDIDATO','SG_UF',  'DS_CARGO', 'SG_PARTIDO'], as_index=False).agg({\"QT_VOTOS_NOMINAIS\": \"sum\"})\n",
        "geral_votos.info()"
      ],
      "execution_count": 0,
      "outputs": [
        {
          "output_type": "stream",
          "text": [
            "<class 'pandas.core.frame.DataFrame'>\n",
            "Int64Index: 26768 entries, 0 to 26767\n",
            "Data columns (total 5 columns):\n",
            "NM_CANDIDATO         26768 non-null object\n",
            "SG_UF                26768 non-null object\n",
            "DS_CARGO             26768 non-null object\n",
            "SG_PARTIDO           26768 non-null object\n",
            "QT_VOTOS_NOMINAIS    26768 non-null int64\n",
            "dtypes: int64(1), object(4)\n",
            "memory usage: 1.2+ MB\n"
          ],
          "name": "stdout"
        }
      ]
    },
    {
      "cell_type": "code",
      "metadata": {
        "id": "SbMuQBKHlNey",
        "colab_type": "code",
        "colab": {},
        "outputId": "acb5b47e-290a-45e0-ef80-c03bad749ebf"
      },
      "source": [
        "#visualiza dataframe\n",
        "geral_votos.head()"
      ],
      "execution_count": 0,
      "outputs": [
        {
          "output_type": "execute_result",
          "data": {
            "text/html": [
              "<div>\n",
              "<style scoped>\n",
              "    .dataframe tbody tr th:only-of-type {\n",
              "        vertical-align: middle;\n",
              "    }\n",
              "\n",
              "    .dataframe tbody tr th {\n",
              "        vertical-align: top;\n",
              "    }\n",
              "\n",
              "    .dataframe thead th {\n",
              "        text-align: right;\n",
              "    }\n",
              "</style>\n",
              "<table border=\"1\" class=\"dataframe\">\n",
              "  <thead>\n",
              "    <tr style=\"text-align: right;\">\n",
              "      <th></th>\n",
              "      <th>NM_CANDIDATO</th>\n",
              "      <th>SG_UF</th>\n",
              "      <th>DS_CARGO</th>\n",
              "      <th>SG_PARTIDO</th>\n",
              "      <th>QT_VOTOS_NOMINAIS</th>\n",
              "    </tr>\n",
              "  </thead>\n",
              "  <tbody>\n",
              "    <tr>\n",
              "      <th>0</th>\n",
              "      <td>SAYONARA DE ARAUJO PESSOA</td>\n",
              "      <td>SC</td>\n",
              "      <td>Deputado Estadual</td>\n",
              "      <td>PT</td>\n",
              "      <td>8488</td>\n",
              "    </tr>\n",
              "    <tr>\n",
              "      <th>1</th>\n",
              "      <td>AAVA SANTIAGO AGUIAR</td>\n",
              "      <td>GO</td>\n",
              "      <td>Deputado Estadual</td>\n",
              "      <td>AVANTE</td>\n",
              "      <td>9786</td>\n",
              "    </tr>\n",
              "    <tr>\n",
              "      <th>2</th>\n",
              "      <td>ABDAEL AMBRUSTER</td>\n",
              "      <td>SP</td>\n",
              "      <td>Deputado Estadual</td>\n",
              "      <td>PT</td>\n",
              "      <td>1488</td>\n",
              "    </tr>\n",
              "    <tr>\n",
              "      <th>3</th>\n",
              "      <td>ABDALA HABIB FRAXE JUNIOR</td>\n",
              "      <td>AM</td>\n",
              "      <td>Deputado Estadual</td>\n",
              "      <td>PODE</td>\n",
              "      <td>37430</td>\n",
              "    </tr>\n",
              "    <tr>\n",
              "      <th>4</th>\n",
              "      <td>ABDIAS DAMASCENO DA SILVA</td>\n",
              "      <td>AC</td>\n",
              "      <td>Deputado Estadual</td>\n",
              "      <td>PSL</td>\n",
              "      <td>364</td>\n",
              "    </tr>\n",
              "  </tbody>\n",
              "</table>\n",
              "</div>"
            ],
            "text/plain": [
              "                 NM_CANDIDATO SG_UF           DS_CARGO SG_PARTIDO  \\\n",
              "0   SAYONARA DE ARAUJO PESSOA    SC  Deputado Estadual         PT   \n",
              "1        AAVA SANTIAGO AGUIAR    GO  Deputado Estadual     AVANTE   \n",
              "2            ABDAEL AMBRUSTER    SP  Deputado Estadual         PT   \n",
              "3   ABDALA HABIB FRAXE JUNIOR    AM  Deputado Estadual       PODE   \n",
              "4   ABDIAS DAMASCENO DA SILVA    AC  Deputado Estadual        PSL   \n",
              "\n",
              "   QT_VOTOS_NOMINAIS  \n",
              "0               8488  \n",
              "1               9786  \n",
              "2               1488  \n",
              "3              37430  \n",
              "4                364  "
            ]
          },
          "metadata": {
            "tags": []
          },
          "execution_count": 122
        }
      ]
    },
    {
      "cell_type": "code",
      "metadata": {
        "id": "02vA9FaXlNe0",
        "colab_type": "code",
        "colab": {},
        "outputId": "8751b651-e69a-4b14-95cd-9ad86745f913"
      },
      "source": [
        "#junção dataframe de votos e receita total \n",
        "votos_valor = pd.merge(geral_receita,\n",
        "                 geral_votos[['QT_VOTOS_NOMINAIS', 'SG_UF', 'NM_CANDIDATO',  'DS_CARGO', 'SG_PARTIDO']],\n",
        "                 on='NM_CANDIDATO')\n",
        "votos_valor.head()"
      ],
      "execution_count": 0,
      "outputs": [
        {
          "output_type": "execute_result",
          "data": {
            "text/html": [
              "<div>\n",
              "<style scoped>\n",
              "    .dataframe tbody tr th:only-of-type {\n",
              "        vertical-align: middle;\n",
              "    }\n",
              "\n",
              "    .dataframe tbody tr th {\n",
              "        vertical-align: top;\n",
              "    }\n",
              "\n",
              "    .dataframe thead th {\n",
              "        text-align: right;\n",
              "    }\n",
              "</style>\n",
              "<table border=\"1\" class=\"dataframe\">\n",
              "  <thead>\n",
              "    <tr style=\"text-align: right;\">\n",
              "      <th></th>\n",
              "      <th>NM_CANDIDATO</th>\n",
              "      <th>VR_RECEITA</th>\n",
              "      <th>QT_VOTOS_NOMINAIS</th>\n",
              "      <th>SG_UF</th>\n",
              "      <th>DS_CARGO</th>\n",
              "      <th>SG_PARTIDO</th>\n",
              "    </tr>\n",
              "  </thead>\n",
              "  <tbody>\n",
              "    <tr>\n",
              "      <th>0</th>\n",
              "      <td>AAVA SANTIAGO AGUIAR</td>\n",
              "      <td>37391.00</td>\n",
              "      <td>9786</td>\n",
              "      <td>GO</td>\n",
              "      <td>Deputado Estadual</td>\n",
              "      <td>AVANTE</td>\n",
              "    </tr>\n",
              "    <tr>\n",
              "      <th>1</th>\n",
              "      <td>ABDAEL AMBRUSTER</td>\n",
              "      <td>7432.46</td>\n",
              "      <td>1488</td>\n",
              "      <td>SP</td>\n",
              "      <td>Deputado Estadual</td>\n",
              "      <td>PT</td>\n",
              "    </tr>\n",
              "    <tr>\n",
              "      <th>2</th>\n",
              "      <td>ABDALA HABIB FRAXE JUNIOR</td>\n",
              "      <td>249233.34</td>\n",
              "      <td>37430</td>\n",
              "      <td>AM</td>\n",
              "      <td>Deputado Estadual</td>\n",
              "      <td>PODE</td>\n",
              "    </tr>\n",
              "    <tr>\n",
              "      <th>3</th>\n",
              "      <td>ABDIAS DE OLIVEIRA SILVA</td>\n",
              "      <td>5200.00</td>\n",
              "      <td>964</td>\n",
              "      <td>PE</td>\n",
              "      <td>Deputado Federal</td>\n",
              "      <td>DC</td>\n",
              "    </tr>\n",
              "    <tr>\n",
              "      <th>4</th>\n",
              "      <td>ABEILARD GOULART DE SOUZA FILHO</td>\n",
              "      <td>191472.74</td>\n",
              "      <td>18900</td>\n",
              "      <td>RJ</td>\n",
              "      <td>Deputado Federal</td>\n",
              "      <td>PDT</td>\n",
              "    </tr>\n",
              "  </tbody>\n",
              "</table>\n",
              "</div>"
            ],
            "text/plain": [
              "                      NM_CANDIDATO  VR_RECEITA  QT_VOTOS_NOMINAIS SG_UF  \\\n",
              "0             AAVA SANTIAGO AGUIAR    37391.00               9786    GO   \n",
              "1                 ABDAEL AMBRUSTER     7432.46               1488    SP   \n",
              "2        ABDALA HABIB FRAXE JUNIOR   249233.34              37430    AM   \n",
              "3         ABDIAS DE OLIVEIRA SILVA     5200.00                964    PE   \n",
              "4  ABEILARD GOULART DE SOUZA FILHO   191472.74              18900    RJ   \n",
              "\n",
              "            DS_CARGO SG_PARTIDO  \n",
              "0  Deputado Estadual     AVANTE  \n",
              "1  Deputado Estadual         PT  \n",
              "2  Deputado Estadual       PODE  \n",
              "3   Deputado Federal         DC  \n",
              "4   Deputado Federal        PDT  "
            ]
          },
          "metadata": {
            "tags": []
          },
          "execution_count": 123
        }
      ]
    },
    {
      "cell_type": "code",
      "metadata": {
        "id": "6wi_BS_dlNe2",
        "colab_type": "code",
        "colab": {}
      },
      "source": [
        "votos_valor['QT_VOTOS_NOMINAIS'].fillna(value=votos_valor['QT_VOTOS_NOMINAIS'].median(), inplace=True)\n",
        "votos_valor['VR_RECEITA'].fillna(value=votos_valor['VR_RECEITA'].median(), inplace=True)\n",
        "votos_valor[votos_valor['VR_RECEITA']>0]['VR_RECEITA'].mean()\n",
        "votos_valor.loc[votos_valor.VR_RECEITA <= 0, 'VR_RECEITA'] = 795838\n",
        "votos_valor.loc[votos_valor.QT_VOTOS_NOMINAIS <= 0, 'QT_VOTOS_NOMINAIS'] = 1\n"
      ],
      "execution_count": 0,
      "outputs": []
    },
    {
      "cell_type": "code",
      "metadata": {
        "id": "5eFRC9-_lNe5",
        "colab_type": "code",
        "colab": {}
      },
      "source": [
        "#criar nova feature custo_medio\n",
        "votos_valor['custo_medio'] = votos_valor['VR_RECEITA'] / votos_valor['QT_VOTOS_NOMINAIS']"
      ],
      "execution_count": 0,
      "outputs": []
    },
    {
      "cell_type": "code",
      "metadata": {
        "id": "E6Tlz9kblNe7",
        "colab_type": "code",
        "colab": {},
        "outputId": "d56c678a-e263-4d3e-da10-c4ed2d42db9c"
      },
      "source": [
        "votos_valor['custo_medio'].mean()"
      ],
      "execution_count": 0,
      "outputs": [
        {
          "output_type": "execute_result",
          "data": {
            "text/plain": [
              "2479.8320423220016"
            ]
          },
          "metadata": {
            "tags": []
          },
          "execution_count": 178
        }
      ]
    },
    {
      "cell_type": "code",
      "metadata": {
        "id": "VHqwZRSalNe9",
        "colab_type": "code",
        "colab": {}
      },
      "source": [
        ""
      ],
      "execution_count": 0,
      "outputs": []
    },
    {
      "cell_type": "code",
      "metadata": {
        "id": "VLHZ3GAwlNfA",
        "colab_type": "code",
        "colab": {},
        "outputId": "b21a5a06-6df3-410d-f889-1559cc040e15"
      },
      "source": [
        "#informações do novo dataframe\n",
        "\n",
        "votos_valor.info()"
      ],
      "execution_count": 0,
      "outputs": [
        {
          "output_type": "stream",
          "text": [
            "<class 'pandas.core.frame.DataFrame'>\n",
            "Int64Index: 21129 entries, 0 to 21128\n",
            "Data columns (total 7 columns):\n",
            "NM_CANDIDATO         21129 non-null object\n",
            "VR_RECEITA           21129 non-null float64\n",
            "QT_VOTOS_NOMINAIS    21129 non-null int64\n",
            "SG_UF                21129 non-null object\n",
            "DS_CARGO             21129 non-null object\n",
            "SG_PARTIDO           21129 non-null object\n",
            "custo_medio          21129 non-null float64\n",
            "dtypes: float64(2), int64(1), object(4)\n",
            "memory usage: 1.9+ MB\n"
          ],
          "name": "stdout"
        }
      ]
    },
    {
      "cell_type": "code",
      "metadata": {
        "id": "aD4t61wQlNfC",
        "colab_type": "code",
        "colab": {},
        "outputId": "d473a067-4eec-428e-de24-0aef142353b6"
      },
      "source": [
        "#DESCRIBE  do dataframe\n",
        "votos_valor.describe()"
      ],
      "execution_count": 0,
      "outputs": [
        {
          "output_type": "execute_result",
          "data": {
            "text/html": [
              "<div>\n",
              "<style scoped>\n",
              "    .dataframe tbody tr th:only-of-type {\n",
              "        vertical-align: middle;\n",
              "    }\n",
              "\n",
              "    .dataframe tbody tr th {\n",
              "        vertical-align: top;\n",
              "    }\n",
              "\n",
              "    .dataframe thead th {\n",
              "        text-align: right;\n",
              "    }\n",
              "</style>\n",
              "<table border=\"1\" class=\"dataframe\">\n",
              "  <thead>\n",
              "    <tr style=\"text-align: right;\">\n",
              "      <th></th>\n",
              "      <th>VR_RECEITA</th>\n",
              "      <th>QT_VOTOS_NOMINAIS</th>\n",
              "      <th>custo_medio</th>\n",
              "    </tr>\n",
              "  </thead>\n",
              "  <tbody>\n",
              "    <tr>\n",
              "      <th>count</th>\n",
              "      <td>2.112900e+04</td>\n",
              "      <td>2.112900e+04</td>\n",
              "      <td>2.112900e+04</td>\n",
              "    </tr>\n",
              "    <tr>\n",
              "      <th>mean</th>\n",
              "      <td>7.958384e+05</td>\n",
              "      <td>6.271924e+04</td>\n",
              "      <td>2.479832e+03</td>\n",
              "    </tr>\n",
              "    <tr>\n",
              "      <th>std</th>\n",
              "      <td>6.616508e+06</td>\n",
              "      <td>7.479968e+05</td>\n",
              "      <td>4.501164e+04</td>\n",
              "    </tr>\n",
              "    <tr>\n",
              "      <th>min</th>\n",
              "      <td>2.000000e-02</td>\n",
              "      <td>1.000000e+00</td>\n",
              "      <td>1.228501e-05</td>\n",
              "    </tr>\n",
              "    <tr>\n",
              "      <th>25%</th>\n",
              "      <td>7.003740e+03</td>\n",
              "      <td>5.600000e+02</td>\n",
              "      <td>4.585924e+00</td>\n",
              "    </tr>\n",
              "    <tr>\n",
              "      <th>50%</th>\n",
              "      <td>2.696000e+04</td>\n",
              "      <td>1.992000e+03</td>\n",
              "      <td>1.254955e+01</td>\n",
              "    </tr>\n",
              "    <tr>\n",
              "      <th>75%</th>\n",
              "      <td>1.437500e+05</td>\n",
              "      <td>1.090400e+04</td>\n",
              "      <td>3.851091e+01</td>\n",
              "    </tr>\n",
              "    <tr>\n",
              "      <th>max</th>\n",
              "      <td>1.140600e+08</td>\n",
              "      <td>5.536807e+07</td>\n",
              "      <td>2.662525e+06</td>\n",
              "    </tr>\n",
              "  </tbody>\n",
              "</table>\n",
              "</div>"
            ],
            "text/plain": [
              "         VR_RECEITA  QT_VOTOS_NOMINAIS   custo_medio\n",
              "count  2.112900e+04       2.112900e+04  2.112900e+04\n",
              "mean   7.958384e+05       6.271924e+04  2.479832e+03\n",
              "std    6.616508e+06       7.479968e+05  4.501164e+04\n",
              "min    2.000000e-02       1.000000e+00  1.228501e-05\n",
              "25%    7.003740e+03       5.600000e+02  4.585924e+00\n",
              "50%    2.696000e+04       1.992000e+03  1.254955e+01\n",
              "75%    1.437500e+05       1.090400e+04  3.851091e+01\n",
              "max    1.140600e+08       5.536807e+07  2.662525e+06"
            ]
          },
          "metadata": {
            "tags": []
          },
          "execution_count": 180
        }
      ]
    },
    {
      "cell_type": "code",
      "metadata": {
        "id": "oQod2cTClNfH",
        "colab_type": "code",
        "colab": {},
        "outputId": "9094072e-b796-44ab-eb37-63951beeb66b"
      },
      "source": [
        "#relação votos receita \n",
        "sns.jointplot(x='VR_RECEITA', y='QT_VOTOS_NOMINAIS', data=votos_valor, kind='reg')\n"
      ],
      "execution_count": 0,
      "outputs": [
        {
          "output_type": "execute_result",
          "data": {
            "text/plain": [
              "<seaborn.axisgrid.JointGrid at 0x29bc80bd208>"
            ]
          },
          "metadata": {
            "tags": []
          },
          "execution_count": 153
        },
        {
          "output_type": "display_data",
          "data": {
            "image/png": "[encoded data removed]",
            "text/plain": [
              "<Figure size 432x432 with 3 Axes>"
            ]
          },
          "metadata": {
            "tags": []
          }
        }
      ]
    },
    {
      "cell_type": "code",
      "metadata": {
        "id": "mURu-u9DlNfK",
        "colab_type": "code",
        "colab": {},
        "outputId": "e18781c7-d84b-4cc3-a8ae-7aefd42d2194"
      },
      "source": [
        "##exploração de dados entre sim\n",
        "sns.pairplot(votos_valor, hue='DS_CARGO')\n"
      ],
      "execution_count": 0,
      "outputs": [
        {
          "output_type": "execute_result",
          "data": {
            "text/plain": [
              "<seaborn.axisgrid.PairGrid at 0x29c98ea1cc0>"
            ]
          },
          "metadata": {
            "tags": []
          },
          "execution_count": 181
        },
        {
          "output_type": "display_data",
          "data": {
            "image/png": "[encoded data removed]",
            "text/plain": [
              "<Figure size 661.625x540 with 12 Axes>"
            ]
          },
          "metadata": {
            "tags": []
          }
        }
      ]
    },
    {
      "cell_type": "code",
      "metadata": {
        "id": "nVsN2rgJlNfM",
        "colab_type": "code",
        "colab": {},
        "outputId": "02abd198-5b04-45ee-f1ff-6028a9e7362e"
      },
      "source": [
        "#relação partido valor receita brasil\n",
        "sns.set_style('ticks')\n",
        "plt.figure(figsize=(16,8))\n",
        "sns.barplot(x='SG_PARTIDO', y= 'VR_RECEITA', data=votos_valor)"
      ],
      "execution_count": 0,
      "outputs": [
        {
          "output_type": "execute_result",
          "data": {
            "text/plain": [
              "<matplotlib.axes._subplots.AxesSubplot at 0x29c9d27a9b0>"
            ]
          },
          "metadata": {
            "tags": []
          },
          "execution_count": 182
        },
        {
          "output_type": "display_data",
          "data": {
            "image/png": "[encoded data removed]",
            "text/plain": [
              "<Figure size 1152x576 with 1 Axes>"
            ]
          },
          "metadata": {
            "tags": []
          }
        }
      ]
    },
    {
      "cell_type": "code",
      "metadata": {
        "id": "sux2HnbClNfN",
        "colab_type": "code",
        "colab": {},
        "outputId": "4c9161f2-5a6d-4814-aa89-cd15234c9bd9"
      },
      "source": [
        "#relação partido valor receita brasil\n",
        "sns.set_style('ticks')\n",
        "plt.figure(figsize=(16,8))\n",
        "sns.barplot(x='SG_PARTIDO', y= 'custo_medio', data=votos_valor)"
      ],
      "execution_count": 0,
      "outputs": [
        {
          "output_type": "execute_result",
          "data": {
            "text/plain": [
              "<matplotlib.axes._subplots.AxesSubplot at 0x29c9da7cb00>"
            ]
          },
          "metadata": {
            "tags": []
          },
          "execution_count": 184
        },
        {
          "output_type": "display_data",
          "data": {
            "image/png": "[encoded data removed]",
            "text/plain": [
              "<Figure size 1152x576 with 1 Axes>"
            ]
          },
          "metadata": {
            "tags": []
          }
        }
      ]
    },
    {
      "cell_type": "code",
      "metadata": {
        "id": "47BpXj7nlNfP",
        "colab_type": "code",
        "colab": {},
        "outputId": "1fea1088-9cef-4ae4-aaed-cfb60e0330cc"
      },
      "source": [
        "#relação partido valor receita brasil\n",
        "sns.set_style('ticks')\n",
        "plt.figure(figsize=(16,8))\n",
        "sns.barplot(x='SG_UF', y= 'custo_medio', data=votos_valor)"
      ],
      "execution_count": 0,
      "outputs": [
        {
          "output_type": "execute_result",
          "data": {
            "text/plain": [
              "<matplotlib.axes._subplots.AxesSubplot at 0x29c9ed9cd30>"
            ]
          },
          "metadata": {
            "tags": []
          },
          "execution_count": 185
        },
        {
          "output_type": "display_data",
          "data": {
            "image/png": "[encoded data removed]",
            "text/plain": [
              "<Figure size 1152x576 with 1 Axes>"
            ]
          },
          "metadata": {
            "tags": []
          }
        }
      ]
    },
    {
      "cell_type": "code",
      "metadata": {
        "id": "rzkrUAn2lNfR",
        "colab_type": "code",
        "colab": {},
        "outputId": "a4227ae9-61db-4831-fe52-5e66d12b614f"
      },
      "source": [
        "#custo médio por estado\n",
        "votos_valor.groupby(\"SG_UF\").mean()[\"custo_medio\"].sort_values().plot(kind='barh')\n"
      ],
      "execution_count": 0,
      "outputs": [
        {
          "output_type": "execute_result",
          "data": {
            "text/plain": [
              "<matplotlib.axes._subplots.AxesSubplot at 0x29c9f1d3780>"
            ]
          },
          "metadata": {
            "tags": []
          },
          "execution_count": 190
        },
        {
          "output_type": "display_data",
          "data": {
            "image/png": "[encoded data removed]",
            "text/plain": [
              "<Figure size 432x288 with 1 Axes>"
            ]
          },
          "metadata": {
            "tags": []
          }
        }
      ]
    },
    {
      "cell_type": "code",
      "metadata": {
        "id": "P2kMBuu4lNfS",
        "colab_type": "code",
        "colab": {},
        "outputId": "c975e464-40f5-4477-c850-1a5a39f5d573"
      },
      "source": [
        "#custo médio por estado\n",
        "votos_valor.groupby(\"SG_UF\").mean()[\"custo_medio\"].sort_values()\n",
        "\n"
      ],
      "execution_count": 0,
      "outputs": [
        {
          "output_type": "execute_result",
          "data": {
            "text/plain": [
              "SG_UF\n",
              "MT       95.350464\n",
              "PE      177.416865\n",
              "RR      426.137576\n",
              "GO      510.528108\n",
              "AC      557.955462\n",
              "RN      578.783102\n",
              "CE      706.640889\n",
              "ES      747.614718\n",
              "SE      853.213816\n",
              "TO     1062.757134\n",
              "AM     1160.528600\n",
              "PR     1357.359269\n",
              "PI     1421.641809\n",
              "PB     1678.040040\n",
              "AL     1718.041081\n",
              "SC     1882.009513\n",
              "RS     1923.223577\n",
              "PA     2163.701023\n",
              "MG     2486.560769\n",
              "RJ     2606.668935\n",
              "BA     3039.630293\n",
              "SP     3090.270861\n",
              "MA     3541.590192\n",
              "DF     3991.896792\n",
              "ZZ     6756.505534\n",
              "RO     7733.646532\n",
              "MS     8419.268757\n",
              "AP    12077.620151\n",
              "Name: custo_medio, dtype: float64"
            ]
          },
          "metadata": {
            "tags": []
          },
          "execution_count": 192
        }
      ]
    },
    {
      "cell_type": "code",
      "metadata": {
        "id": "UqFkga_NlNfU",
        "colab_type": "code",
        "colab": {},
        "outputId": "48a79bb7-4cde-48dc-a6dd-2d719f84e14b"
      },
      "source": [
        "#custo médio candidato e partido\n",
        "\n",
        "votos_valor.groupby(['NM_CANDIDATO','SG_PARTIDO']).mean()[\"custo_medio\"].sort_values()\n"
      ],
      "execution_count": 0,
      "outputs": [
        {
          "output_type": "execute_result",
          "data": {
            "text/plain": [
              "NM_CANDIDATO                          SG_PARTIDO   \n",
              "PAULO FERREIRA MARTINS                PHS              1.228501e-05\n",
              "VANTUIL SILVA OLIVEIRA                PPL              3.131524e-05\n",
              "PEDRO RIBEIRO FILHO                   PSL              5.977983e-04\n",
              "EDUARDO LIMA DE SOUZA                 NOVO             9.029345e-03\n",
              "FABIO TOBIAS DE ARAUJO                AVANTE           1.080740e-02\n",
              "JOSE RIBAMAR FRAZAO OLIVEIRA          REDE             1.123343e-02\n",
              "ANA CRISTINA SIQUEIRA VALLE           PODE             1.287596e-02\n",
              "MARCOS ANTONIO DO NASCIMENTO          PRTB             1.650165e-02\n",
              "JOSÉ DE OLIVEIRA LIMA                 PSL              1.771812e-02\n",
              "CLEVERSON FIUZA ALVES                 NOVO             1.968504e-02\n",
              "MARCOS PRUDENTE CAJE                  PTC              2.114165e-02\n",
              "MOIRA LÁZARO DA SILVA                 REDE             2.593963e-02\n",
              "IVAN RODRIGUES SANTANA                NOVO             2.742947e-02\n",
              "EDUARDO ALEXANDRO CASSINI             PSL              3.093485e-02\n",
              "JANAINA CONCEIÇÃO PASCHOAL            PSL              3.160901e-02\n",
              "ANA CELIA SIQUEIRA FERREIRA           PSTU             3.425240e-02\n",
              "EMANUEL BASTOS TORQUATO               PSB              3.425440e-02\n",
              "MATHEUS VINICCIUS RIBEIRO PETRIV      PRTB             3.544753e-02\n",
              "EDUARDO PEREIRA DE SOUSA              PATRI            3.636364e-02\n",
              "MARLI SCHAULE                         PSTU             3.650636e-02\n",
              "ELIAS MATIAS DA SILVA                 PRP              3.713376e-02\n",
              "JOÃO HENRIQUE DE BARRADAS CARNEIRO    PRTB             3.850103e-02\n",
              "DILVO DE ARAÚJO CONSTANTINO           PSL              4.006410e-02\n",
              "HAMILTON ALVES FERNANDES              PROS             4.104034e-02\n",
              "SERGIO OLIMPIO GOMES                  PSL              4.207255e-02\n",
              "LUCIANA COSTA CORREA                  PSTU             4.361909e-02\n",
              "DAVI NOGUEIRA DE SOUZA                PSL              4.478280e-02\n",
              "ATILA MAIA DA ROCHA                   PRTB             4.496021e-02\n",
              "SILVERIO JOSE DA SILVA                PRTB             4.535147e-02\n",
              "ROBERTO CHAVES DE ALMEIDA             PSB              4.613255e-02\n",
              "                                                           ...     \n",
              "ANDERSON RICARDO DE ALMEIDA FEIO      DEM              3.355569e+05\n",
              "HELIO QUEIROZ DA SILVA                PP               4.000000e+05\n",
              "MOISES RIVALDO PEREIRA                PATRI            4.060000e+05\n",
              "MAURO ROGERIO GOMES PESSANHA          PTB              4.100000e+05\n",
              "ADACIR GERALDO CARLOTTO               PHS              4.306800e+05\n",
              "JULIANA DE SOUZA MATIAS               PSB              4.426000e+05\n",
              "CRISTINA VIEIRA DOS REIS              PROS             4.437000e+05\n",
              "FERNANDA LIMA NUNEZ MENDES RIBEIRO    MDB              4.640000e+05\n",
              "HEMETERIO WEBA FILHO                  PP               5.669387e+05\n",
              "GERSON LUIS BITTENCOURT               PT               5.834588e+05\n",
              "MARIO MAURICI DE LIMA MORAIS          PT               5.843732e+05\n",
              "WLADIMIR AFONSO DA COSTA RABELO       SOLIDARIEDADE    7.246206e+05\n",
              "ANTONIA DO SOCORRO NOGUEIRA DE SOUZA  PT               7.300000e+05\n",
              "DORALICE NASCIMENTO DE SOUZA          PT               7.480000e+05\n",
              "JANETE CORDEIRO TAVARES               PPS              7.620961e+05\n",
              "MARITON BENEDITO DE HOLANDA           PT               8.413600e+05\n",
              "MARIA DALVA DE SOUZA FIGUEIREDO       PT               9.528429e+05\n",
              "JOÃO RODRIGUES                        PSD              1.017877e+06\n",
              "LUIZ GONZAGA VIEIRA DE CAMARGO        PSDB             1.023387e+06\n",
              "SALMA REGINA GALLATE                  PR               1.034620e+06\n",
              "CELSO ALENCAR RAMOS JACOB             MDB              1.055230e+06\n",
              "NELSON ROBERTO BORNIER DE OLIVEIRA    PROS             1.391061e+06\n",
              "JOSE CARLOS OROSCO                    PDT              1.483100e+06\n",
              "LUIZ CARLOS FERRARI                   PR               1.534541e+06\n",
              "SANDRO MATOS PEREIRA                  PSD              1.614600e+06\n",
              "YUSSIF ALI MERE JUNIOR                PSDB             1.647700e+06\n",
              "JURACI PESSOA DE CARVALHO             PTB              1.836730e+06\n",
              "LUIZ CARLOS CAETANO                   PT               1.915265e+06\n",
              "CARLOS ALBERTO PEREIRA                PODE             1.965822e+06\n",
              "ALCIDES JESUS PERALTA BERNAL          PP               2.662525e+06\n",
              "Name: custo_medio, Length: 20777, dtype: float64"
            ]
          },
          "metadata": {
            "tags": []
          },
          "execution_count": 195
        }
      ]
    },
    {
      "cell_type": "code",
      "metadata": {
        "id": "IH6AUjGwlNfV",
        "colab_type": "code",
        "colab": {}
      },
      "source": [
        ""
      ],
      "execution_count": 0,
      "outputs": []
    }
  ]
}