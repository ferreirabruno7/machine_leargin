{
  "nbformat": 4,
  "nbformat_minor": 0,
  "metadata": {
    "colab": {
      "name": "Hacker de Fiscalização e Análise de Dados.ipynb",
      "provenance": [],
      "authorship_tag": "ABX9TyMb/RrnoPXoPjxzjnn/4iuQ",
      "include_colab_link": true
    },
    "kernelspec": {
      "name": "python3",
      "display_name": "Python 3"
    },
    "language_info": {
      "name": "python"
    }
  },
  "cells": [
    {
      "cell_type": "markdown",
      "metadata": {
        "id": "view-in-github",
        "colab_type": "text"
      },
      "source": [
        "<a href=\"https://colab.research.google.com/github/ferreirabruno7/machine_learning/blob/master/Hacker_de_Fiscaliza%C3%A7%C3%A3o_e_An%C3%A1lise_de_Dados.ipynb\" target=\"_parent\"><img src=\"https://colab.research.google.com/assets/colab-badge.svg\" alt=\"Open In Colab\"/></a>"
      ]
    },
    {
      "cell_type": "markdown",
      "source": [
        "# **Diagnóstico da remuneração líquida dos servidores públicos federais**\n",
        "![47-e1401728582660-tt-width-660-height-300-bgcolor-FFFFFF.jpg](data:image/jpeg;base64,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)\n",
        "#Mulheres ganham em média **11,11% menos que homens** no poder executivo federal.  \n",
        "---\n",
        "\n",
        "#As servidoras ativas do poder executivo federal ganham em média cerca de **11% menos** do que os servidores do sexo masculino. \n",
        "\n",
        "---\n",
        "#A diferença salarial é ainda mais acentuada quando comparada a dimensão racial: \n",
        "#servidores e servidoras negros ganham em média **27% menos** que servidores e servidores brancos.\n",
        "\n",
        "---\n",
        "#Quando analisadas as dimensões raciais e gênero a diferença é ainda maior: servidoras negras ganham em média **24% menos** que servidoras brancas e servidores negros ganham em média **29% menos** que servidores brancos. \n",
        "\n",
        "\n",
        "---\n",
        "#O levantamento mostra o nível de desigualdade racial e de gênero no rendimento dos servidores ativos do governo federal. \n",
        "\n",
        "\n",
        "\n",
        "---\n",
        "\n",
        "\n",
        "Fonte de dados: https://www.ipea.gov.br/atlasestado/consulta/145\n"
      ],
      "metadata": {
        "id": "XF3edV1rSz59"
      }
    },
    {
      "cell_type": "code",
      "source": [
        "#importação das bibliotecas base\n",
        "import pandas as pd\n",
        "import numpy as np\n",
        "import matplotlib.pyplot as plt\n",
        "import seaborn as sns\n",
        "sns.set_theme(style=\"whitegrid\")"
      ],
      "metadata": {
        "id": "i6aN7jQuRk_9"
      },
      "execution_count": 19,
      "outputs": []
    },
    {
      "cell_type": "code",
      "source": [
        "#acessar google drive\n",
        "from google.colab import drive\n",
        "drive.mount('/content/drive', force_remount=True)"
      ],
      "metadata": {
        "colab": {
          "base_uri": "https://localhost:8080/"
        },
        "id": "6eu7_aKdl47d",
        "outputId": "324b4c02-c39e-4dda-bd60-3e7e7ed46c4b"
      },
      "execution_count": 3,
      "outputs": [
        {
          "output_type": "stream",
          "name": "stdout",
          "text": [
            "Mounted at /content/drive\n"
          ]
        }
      ]
    },
    {
      "cell_type": "code",
      "source": [
        "#importar arquivo csv, geração do dataframe e obtenção de informações dos dados\n",
        "salarios = pd.read_csv(\"/content/drive/My Drive/Colab Notebooks/valor_salario_sexo_raca.csv\", delimiter = ';', encoding='iso-8859-1', decimal=',')\n",
        "salarios.info()"
      ],
      "metadata": {
        "colab": {
          "base_uri": "https://localhost:8080/"
        },
        "id": "GgOjTe6KktkV",
        "outputId": "29d992fd-d53d-44b8-c667-96516c77e765"
      },
      "execution_count": 4,
      "outputs": [
        {
          "output_type": "stream",
          "name": "stdout",
          "text": [
            "<class 'pandas.core.frame.DataFrame'>\n",
            "RangeIndex: 88 entries, 0 to 87\n",
            "Data columns (total 4 columns):\n",
            " #   Column     Non-Null Count  Dtype  \n",
            "---  ------     --------------  -----  \n",
            " 0   id         88 non-null     int64  \n",
            " 1   ano        88 non-null     int64  \n",
            " 2   sexo_raca  88 non-null     object \n",
            " 3   liquido    88 non-null     float64\n",
            "dtypes: float64(1), int64(2), object(1)\n",
            "memory usage: 2.9+ KB\n"
          ]
        }
      ]
    },
    {
      "cell_type": "code",
      "source": [
        "#visualização de parte dos registros do arquivo csv\n",
        "salarios.head()"
      ],
      "metadata": {
        "colab": {
          "base_uri": "https://localhost:8080/",
          "height": 206
        },
        "id": "yVYVEfSnlR8r",
        "outputId": "05e9b0e3-f271-4c4d-8640-dd07d5eff9ac"
      },
      "execution_count": 5,
      "outputs": [
        {
          "output_type": "execute_result",
          "data": {
            "text/plain": [
              "   id   ano      sexo_raca  liquido\n",
              "0   1  1999   Homem Branco   6527.2\n",
              "1   2  1999    Homem Negro   4768.7\n",
              "2   3  1999  Mulher Branca   5261.6\n",
              "3   4  1999   Mulher Negra   4010.0\n",
              "4   5  2000   Homem Branco   5690.3"
            ],
            "text/html": [
              "\n",
              "  <div id=\"df-417c593e-ab14-4c0f-a4d1-27771a9c6bd1\">\n",
              "    <div class=\"colab-df-container\">\n",
              "      <div>\n",
              "<style scoped>\n",
              "    .dataframe tbody tr th:only-of-type {\n",
              "        vertical-align: middle;\n",
              "    }\n",
              "\n",
              "    .dataframe tbody tr th {\n",
              "        vertical-align: top;\n",
              "    }\n",
              "\n",
              "    .dataframe thead th {\n",
              "        text-align: right;\n",
              "    }\n",
              "</style>\n",
              "<table border=\"1\" class=\"dataframe\">\n",
              "  <thead>\n",
              "    <tr style=\"text-align: right;\">\n",
              "      <th></th>\n",
              "      <th>id</th>\n",
              "      <th>ano</th>\n",
              "      <th>sexo_raca</th>\n",
              "      <th>liquido</th>\n",
              "    </tr>\n",
              "  </thead>\n",
              "  <tbody>\n",
              "    <tr>\n",
              "      <th>0</th>\n",
              "      <td>1</td>\n",
              "      <td>1999</td>\n",
              "      <td>Homem Branco</td>\n",
              "      <td>6527.2</td>\n",
              "    </tr>\n",
              "    <tr>\n",
              "      <th>1</th>\n",
              "      <td>2</td>\n",
              "      <td>1999</td>\n",
              "      <td>Homem Negro</td>\n",
              "      <td>4768.7</td>\n",
              "    </tr>\n",
              "    <tr>\n",
              "      <th>2</th>\n",
              "      <td>3</td>\n",
              "      <td>1999</td>\n",
              "      <td>Mulher Branca</td>\n",
              "      <td>5261.6</td>\n",
              "    </tr>\n",
              "    <tr>\n",
              "      <th>3</th>\n",
              "      <td>4</td>\n",
              "      <td>1999</td>\n",
              "      <td>Mulher Negra</td>\n",
              "      <td>4010.0</td>\n",
              "    </tr>\n",
              "    <tr>\n",
              "      <th>4</th>\n",
              "      <td>5</td>\n",
              "      <td>2000</td>\n",
              "      <td>Homem Branco</td>\n",
              "      <td>5690.3</td>\n",
              "    </tr>\n",
              "  </tbody>\n",
              "</table>\n",
              "</div>\n",
              "      <button class=\"colab-df-convert\" onclick=\"convertToInteractive('df-417c593e-ab14-4c0f-a4d1-27771a9c6bd1')\"\n",
              "              title=\"Convert this dataframe to an interactive table.\"\n",
              "              style=\"display:none;\">\n",
              "        \n",
              "  <svg xmlns=\"http://www.w3.org/2000/svg\" height=\"24px\"viewBox=\"0 0 24 24\"\n",
              "       width=\"24px\">\n",
              "    <path d=\"M0 0h24v24H0V0z\" fill=\"none\"/>\n",
              "    <path d=\"M18.56 5.44l.94 2.06.94-2.06 2.06-.94-2.06-.94-.94-2.06-.94 2.06-2.06.94zm-11 1L8.5 8.5l.94-2.06 2.06-.94-2.06-.94L8.5 2.5l-.94 2.06-2.06.94zm10 10l.94 2.06.94-2.06 2.06-.94-2.06-.94-.94-2.06-.94 2.06-2.06.94z\"/><path d=\"M17.41 7.96l-1.37-1.37c-.4-.4-.92-.59-1.43-.59-.52 0-1.04.2-1.43.59L10.3 9.45l-7.72 7.72c-.78.78-.78 2.05 0 2.83L4 21.41c.39.39.9.59 1.41.59.51 0 1.02-.2 1.41-.59l7.78-7.78 2.81-2.81c.8-.78.8-2.07 0-2.86zM5.41 20L4 18.59l7.72-7.72 1.47 1.35L5.41 20z\"/>\n",
              "  </svg>\n",
              "      </button>\n",
              "      \n",
              "  <style>\n",
              "    .colab-df-container {\n",
              "      display:flex;\n",
              "      flex-wrap:wrap;\n",
              "      gap: 12px;\n",
              "    }\n",
              "\n",
              "    .colab-df-convert {\n",
              "      background-color: #E8F0FE;\n",
              "      border: none;\n",
              "      border-radius: 50%;\n",
              "      cursor: pointer;\n",
              "      display: none;\n",
              "      fill: #1967D2;\n",
              "      height: 32px;\n",
              "      padding: 0 0 0 0;\n",
              "      width: 32px;\n",
              "    }\n",
              "\n",
              "    .colab-df-convert:hover {\n",
              "      background-color: #E2EBFA;\n",
              "      box-shadow: 0px 1px 2px rgba(60, 64, 67, 0.3), 0px 1px 3px 1px rgba(60, 64, 67, 0.15);\n",
              "      fill: #174EA6;\n",
              "    }\n",
              "\n",
              "    [theme=dark] .colab-df-convert {\n",
              "      background-color: #3B4455;\n",
              "      fill: #D2E3FC;\n",
              "    }\n",
              "\n",
              "    [theme=dark] .colab-df-convert:hover {\n",
              "      background-color: #434B5C;\n",
              "      box-shadow: 0px 1px 3px 1px rgba(0, 0, 0, 0.15);\n",
              "      filter: drop-shadow(0px 1px 2px rgba(0, 0, 0, 0.3));\n",
              "      fill: #FFFFFF;\n",
              "    }\n",
              "  </style>\n",
              "\n",
              "      <script>\n",
              "        const buttonEl =\n",
              "          document.querySelector('#df-417c593e-ab14-4c0f-a4d1-27771a9c6bd1 button.colab-df-convert');\n",
              "        buttonEl.style.display =\n",
              "          google.colab.kernel.accessAllowed ? 'block' : 'none';\n",
              "\n",
              "        async function convertToInteractive(key) {\n",
              "          const element = document.querySelector('#df-417c593e-ab14-4c0f-a4d1-27771a9c6bd1');\n",
              "          const dataTable =\n",
              "            await google.colab.kernel.invokeFunction('convertToInteractive',\n",
              "                                                     [key], {});\n",
              "          if (!dataTable) return;\n",
              "\n",
              "          const docLinkHtml = 'Like what you see? Visit the ' +\n",
              "            '<a target=\"_blank\" href=https://colab.research.google.com/notebooks/data_table.ipynb>data table notebook</a>'\n",
              "            + ' to learn more about interactive tables.';\n",
              "          element.innerHTML = '';\n",
              "          dataTable['output_type'] = 'display_data';\n",
              "          await google.colab.output.renderOutput(dataTable, element);\n",
              "          const docLink = document.createElement('div');\n",
              "          docLink.innerHTML = docLinkHtml;\n",
              "          element.appendChild(docLink);\n",
              "        }\n",
              "      </script>\n",
              "    </div>\n",
              "  </div>\n",
              "  "
            ]
          },
          "metadata": {},
          "execution_count": 5
        }
      ]
    },
    {
      "cell_type": "code",
      "source": [
        "#criação de novo dataframe pivotando a coluna sexo_raça\n",
        "pivot_salarios = salarios.pivot(values = 'liquido', index = 'ano', columns = 'sexo_raca')\n",
        "pivot_salarios"
      ],
      "metadata": {
        "colab": {
          "base_uri": "https://localhost:8080/",
          "height": 771
        },
        "id": "PopcFJrloZGG",
        "outputId": "fb023970-2954-4d59-8bde-6d150f772852"
      },
      "execution_count": 6,
      "outputs": [
        {
          "output_type": "execute_result",
          "data": {
            "text/plain": [
              "sexo_raca  Homem Branco  Homem Negro  Mulher Branca  Mulher Negra\n",
              "ano                                                              \n",
              "1999             6527.2       4768.7         5261.6        4010.0\n",
              "2000             5690.3       4151.7         4887.3        3782.5\n",
              "2001             5833.8       4107.2         4997.5        3734.5\n",
              "2002             6407.0       4489.6         5429.7        4069.7\n",
              "2003             6133.3       4297.4         5171.9        3856.7\n",
              "2004             5902.9       4372.2         4963.7        3862.0\n",
              "2005             6314.4       4558.0         5298.2        4036.4\n",
              "2006             6227.3       4368.9         5269.9        3958.6\n",
              "2007             7049.0       4815.0         5822.3        4311.5\n",
              "2008             7220.2       4914.5         5946.1        4352.3\n",
              "2009             8347.7       5653.5         7049.5        5127.9\n",
              "2010             9115.6       6316.7         8005.6        5975.1\n",
              "2011             9200.9       6330.2         8153.7        6083.6\n",
              "2012             8757.8       6110.5         7843.2        5905.8\n",
              "2013             8832.8       6195.6         7964.9        6045.5\n",
              "2014             9279.1       6532.7         8321.2        6335.1\n",
              "2015             8996.8       6304.3         7953.9        6047.9\n",
              "2016             8506.6       6110.6         7647.4        5875.2\n",
              "2017             9186.3       6591.9         8144.7        6239.3\n",
              "2018             8893.2       6403.8         7952.3        6048.9\n",
              "2019             9044.7       6454.7         7977.5        5996.2\n",
              "2020             8774.2       6272.2         7753.8        5815.5"
            ],
            "text/html": [
              "\n",
              "  <div id=\"df-11e4f177-8fe8-45cd-8e12-4ad5aeb7f6b5\">\n",
              "    <div class=\"colab-df-container\">\n",
              "      <div>\n",
              "<style scoped>\n",
              "    .dataframe tbody tr th:only-of-type {\n",
              "        vertical-align: middle;\n",
              "    }\n",
              "\n",
              "    .dataframe tbody tr th {\n",
              "        vertical-align: top;\n",
              "    }\n",
              "\n",
              "    .dataframe thead th {\n",
              "        text-align: right;\n",
              "    }\n",
              "</style>\n",
              "<table border=\"1\" class=\"dataframe\">\n",
              "  <thead>\n",
              "    <tr style=\"text-align: right;\">\n",
              "      <th>sexo_raca</th>\n",
              "      <th>Homem Branco</th>\n",
              "      <th>Homem Negro</th>\n",
              "      <th>Mulher Branca</th>\n",
              "      <th>Mulher Negra</th>\n",
              "    </tr>\n",
              "    <tr>\n",
              "      <th>ano</th>\n",
              "      <th></th>\n",
              "      <th></th>\n",
              "      <th></th>\n",
              "      <th></th>\n",
              "    </tr>\n",
              "  </thead>\n",
              "  <tbody>\n",
              "    <tr>\n",
              "      <th>1999</th>\n",
              "      <td>6527.2</td>\n",
              "      <td>4768.7</td>\n",
              "      <td>5261.6</td>\n",
              "      <td>4010.0</td>\n",
              "    </tr>\n",
              "    <tr>\n",
              "      <th>2000</th>\n",
              "      <td>5690.3</td>\n",
              "      <td>4151.7</td>\n",
              "      <td>4887.3</td>\n",
              "      <td>3782.5</td>\n",
              "    </tr>\n",
              "    <tr>\n",
              "      <th>2001</th>\n",
              "      <td>5833.8</td>\n",
              "      <td>4107.2</td>\n",
              "      <td>4997.5</td>\n",
              "      <td>3734.5</td>\n",
              "    </tr>\n",
              "    <tr>\n",
              "      <th>2002</th>\n",
              "      <td>6407.0</td>\n",
              "      <td>4489.6</td>\n",
              "      <td>5429.7</td>\n",
              "      <td>4069.7</td>\n",
              "    </tr>\n",
              "    <tr>\n",
              "      <th>2003</th>\n",
              "      <td>6133.3</td>\n",
              "      <td>4297.4</td>\n",
              "      <td>5171.9</td>\n",
              "      <td>3856.7</td>\n",
              "    </tr>\n",
              "    <tr>\n",
              "      <th>2004</th>\n",
              "      <td>5902.9</td>\n",
              "      <td>4372.2</td>\n",
              "      <td>4963.7</td>\n",
              "      <td>3862.0</td>\n",
              "    </tr>\n",
              "    <tr>\n",
              "      <th>2005</th>\n",
              "      <td>6314.4</td>\n",
              "      <td>4558.0</td>\n",
              "      <td>5298.2</td>\n",
              "      <td>4036.4</td>\n",
              "    </tr>\n",
              "    <tr>\n",
              "      <th>2006</th>\n",
              "      <td>6227.3</td>\n",
              "      <td>4368.9</td>\n",
              "      <td>5269.9</td>\n",
              "      <td>3958.6</td>\n",
              "    </tr>\n",
              "    <tr>\n",
              "      <th>2007</th>\n",
              "      <td>7049.0</td>\n",
              "      <td>4815.0</td>\n",
              "      <td>5822.3</td>\n",
              "      <td>4311.5</td>\n",
              "    </tr>\n",
              "    <tr>\n",
              "      <th>2008</th>\n",
              "      <td>7220.2</td>\n",
              "      <td>4914.5</td>\n",
              "      <td>5946.1</td>\n",
              "      <td>4352.3</td>\n",
              "    </tr>\n",
              "    <tr>\n",
              "      <th>2009</th>\n",
              "      <td>8347.7</td>\n",
              "      <td>5653.5</td>\n",
              "      <td>7049.5</td>\n",
              "      <td>5127.9</td>\n",
              "    </tr>\n",
              "    <tr>\n",
              "      <th>2010</th>\n",
              "      <td>9115.6</td>\n",
              "      <td>6316.7</td>\n",
              "      <td>8005.6</td>\n",
              "      <td>5975.1</td>\n",
              "    </tr>\n",
              "    <tr>\n",
              "      <th>2011</th>\n",
              "      <td>9200.9</td>\n",
              "      <td>6330.2</td>\n",
              "      <td>8153.7</td>\n",
              "      <td>6083.6</td>\n",
              "    </tr>\n",
              "    <tr>\n",
              "      <th>2012</th>\n",
              "      <td>8757.8</td>\n",
              "      <td>6110.5</td>\n",
              "      <td>7843.2</td>\n",
              "      <td>5905.8</td>\n",
              "    </tr>\n",
              "    <tr>\n",
              "      <th>2013</th>\n",
              "      <td>8832.8</td>\n",
              "      <td>6195.6</td>\n",
              "      <td>7964.9</td>\n",
              "      <td>6045.5</td>\n",
              "    </tr>\n",
              "    <tr>\n",
              "      <th>2014</th>\n",
              "      <td>9279.1</td>\n",
              "      <td>6532.7</td>\n",
              "      <td>8321.2</td>\n",
              "      <td>6335.1</td>\n",
              "    </tr>\n",
              "    <tr>\n",
              "      <th>2015</th>\n",
              "      <td>8996.8</td>\n",
              "      <td>6304.3</td>\n",
              "      <td>7953.9</td>\n",
              "      <td>6047.9</td>\n",
              "    </tr>\n",
              "    <tr>\n",
              "      <th>2016</th>\n",
              "      <td>8506.6</td>\n",
              "      <td>6110.6</td>\n",
              "      <td>7647.4</td>\n",
              "      <td>5875.2</td>\n",
              "    </tr>\n",
              "    <tr>\n",
              "      <th>2017</th>\n",
              "      <td>9186.3</td>\n",
              "      <td>6591.9</td>\n",
              "      <td>8144.7</td>\n",
              "      <td>6239.3</td>\n",
              "    </tr>\n",
              "    <tr>\n",
              "      <th>2018</th>\n",
              "      <td>8893.2</td>\n",
              "      <td>6403.8</td>\n",
              "      <td>7952.3</td>\n",
              "      <td>6048.9</td>\n",
              "    </tr>\n",
              "    <tr>\n",
              "      <th>2019</th>\n",
              "      <td>9044.7</td>\n",
              "      <td>6454.7</td>\n",
              "      <td>7977.5</td>\n",
              "      <td>5996.2</td>\n",
              "    </tr>\n",
              "    <tr>\n",
              "      <th>2020</th>\n",
              "      <td>8774.2</td>\n",
              "      <td>6272.2</td>\n",
              "      <td>7753.8</td>\n",
              "      <td>5815.5</td>\n",
              "    </tr>\n",
              "  </tbody>\n",
              "</table>\n",
              "</div>\n",
              "      <button class=\"colab-df-convert\" onclick=\"convertToInteractive('df-11e4f177-8fe8-45cd-8e12-4ad5aeb7f6b5')\"\n",
              "              title=\"Convert this dataframe to an interactive table.\"\n",
              "              style=\"display:none;\">\n",
              "        \n",
              "  <svg xmlns=\"http://www.w3.org/2000/svg\" height=\"24px\"viewBox=\"0 0 24 24\"\n",
              "       width=\"24px\">\n",
              "    <path d=\"M0 0h24v24H0V0z\" fill=\"none\"/>\n",
              "    <path d=\"M18.56 5.44l.94 2.06.94-2.06 2.06-.94-2.06-.94-.94-2.06-.94 2.06-2.06.94zm-11 1L8.5 8.5l.94-2.06 2.06-.94-2.06-.94L8.5 2.5l-.94 2.06-2.06.94zm10 10l.94 2.06.94-2.06 2.06-.94-2.06-.94-.94-2.06-.94 2.06-2.06.94z\"/><path d=\"M17.41 7.96l-1.37-1.37c-.4-.4-.92-.59-1.43-.59-.52 0-1.04.2-1.43.59L10.3 9.45l-7.72 7.72c-.78.78-.78 2.05 0 2.83L4 21.41c.39.39.9.59 1.41.59.51 0 1.02-.2 1.41-.59l7.78-7.78 2.81-2.81c.8-.78.8-2.07 0-2.86zM5.41 20L4 18.59l7.72-7.72 1.47 1.35L5.41 20z\"/>\n",
              "  </svg>\n",
              "      </button>\n",
              "      \n",
              "  <style>\n",
              "    .colab-df-container {\n",
              "      display:flex;\n",
              "      flex-wrap:wrap;\n",
              "      gap: 12px;\n",
              "    }\n",
              "\n",
              "    .colab-df-convert {\n",
              "      background-color: #E8F0FE;\n",
              "      border: none;\n",
              "      border-radius: 50%;\n",
              "      cursor: pointer;\n",
              "      display: none;\n",
              "      fill: #1967D2;\n",
              "      height: 32px;\n",
              "      padding: 0 0 0 0;\n",
              "      width: 32px;\n",
              "    }\n",
              "\n",
              "    .colab-df-convert:hover {\n",
              "      background-color: #E2EBFA;\n",
              "      box-shadow: 0px 1px 2px rgba(60, 64, 67, 0.3), 0px 1px 3px 1px rgba(60, 64, 67, 0.15);\n",
              "      fill: #174EA6;\n",
              "    }\n",
              "\n",
              "    [theme=dark] .colab-df-convert {\n",
              "      background-color: #3B4455;\n",
              "      fill: #D2E3FC;\n",
              "    }\n",
              "\n",
              "    [theme=dark] .colab-df-convert:hover {\n",
              "      background-color: #434B5C;\n",
              "      box-shadow: 0px 1px 3px 1px rgba(0, 0, 0, 0.15);\n",
              "      filter: drop-shadow(0px 1px 2px rgba(0, 0, 0, 0.3));\n",
              "      fill: #FFFFFF;\n",
              "    }\n",
              "  </style>\n",
              "\n",
              "      <script>\n",
              "        const buttonEl =\n",
              "          document.querySelector('#df-11e4f177-8fe8-45cd-8e12-4ad5aeb7f6b5 button.colab-df-convert');\n",
              "        buttonEl.style.display =\n",
              "          google.colab.kernel.accessAllowed ? 'block' : 'none';\n",
              "\n",
              "        async function convertToInteractive(key) {\n",
              "          const element = document.querySelector('#df-11e4f177-8fe8-45cd-8e12-4ad5aeb7f6b5');\n",
              "          const dataTable =\n",
              "            await google.colab.kernel.invokeFunction('convertToInteractive',\n",
              "                                                     [key], {});\n",
              "          if (!dataTable) return;\n",
              "\n",
              "          const docLinkHtml = 'Like what you see? Visit the ' +\n",
              "            '<a target=\"_blank\" href=https://colab.research.google.com/notebooks/data_table.ipynb>data table notebook</a>'\n",
              "            + ' to learn more about interactive tables.';\n",
              "          element.innerHTML = '';\n",
              "          dataTable['output_type'] = 'display_data';\n",
              "          await google.colab.output.renderOutput(dataTable, element);\n",
              "          const docLink = document.createElement('div');\n",
              "          docLink.innerHTML = docLinkHtml;\n",
              "          element.appendChild(docLink);\n",
              "        }\n",
              "      </script>\n",
              "    </div>\n",
              "  </div>\n",
              "  "
            ]
          },
          "metadata": {},
          "execution_count": 6
        }
      ]
    },
    {
      "cell_type": "code",
      "source": [
        "#resetando o índice do novo dataframecriado para utilização do campo ano como coluna\n",
        "df = pivot_salarios.reset_index()\n"
      ],
      "metadata": {
        "id": "hPuup-_Mpivs"
      },
      "execution_count": 7,
      "outputs": []
    },
    {
      "cell_type": "code",
      "source": [
        "#inspecionar novo dataframe\n",
        "df.info()"
      ],
      "metadata": {
        "colab": {
          "base_uri": "https://localhost:8080/"
        },
        "id": "AfLHoBWVqizF",
        "outputId": "8348475b-6ccb-44ef-9752-36c0ed684c0a"
      },
      "execution_count": 8,
      "outputs": [
        {
          "output_type": "stream",
          "name": "stdout",
          "text": [
            "<class 'pandas.core.frame.DataFrame'>\n",
            "RangeIndex: 22 entries, 0 to 21\n",
            "Data columns (total 5 columns):\n",
            " #   Column         Non-Null Count  Dtype  \n",
            "---  ------         --------------  -----  \n",
            " 0   ano            22 non-null     int64  \n",
            " 1   Homem Branco   22 non-null     float64\n",
            " 2   Homem Negro    22 non-null     float64\n",
            " 3   Mulher Branca  22 non-null     float64\n",
            " 4   Mulher Negra   22 non-null     float64\n",
            "dtypes: float64(4), int64(1)\n",
            "memory usage: 1008.0 bytes\n"
          ]
        }
      ]
    },
    {
      "cell_type": "code",
      "source": [
        "#visualização de parte dos registros do arquivo csv\n",
        "\n",
        "df.head()"
      ],
      "metadata": {
        "colab": {
          "base_uri": "https://localhost:8080/",
          "height": 206
        },
        "id": "kRkJNnMHqlLW",
        "outputId": "fd12351f-3d32-4105-9da5-7801f161b1b1"
      },
      "execution_count": 9,
      "outputs": [
        {
          "output_type": "execute_result",
          "data": {
            "text/plain": [
              "sexo_raca   ano  Homem Branco  Homem Negro  Mulher Branca  Mulher Negra\n",
              "0          1999        6527.2       4768.7         5261.6        4010.0\n",
              "1          2000        5690.3       4151.7         4887.3        3782.5\n",
              "2          2001        5833.8       4107.2         4997.5        3734.5\n",
              "3          2002        6407.0       4489.6         5429.7        4069.7\n",
              "4          2003        6133.3       4297.4         5171.9        3856.7"
            ],
            "text/html": [
              "\n",
              "  <div id=\"df-967c7bef-dd43-46bb-b89f-ca98c5cf9b53\">\n",
              "    <div class=\"colab-df-container\">\n",
              "      <div>\n",
              "<style scoped>\n",
              "    .dataframe tbody tr th:only-of-type {\n",
              "        vertical-align: middle;\n",
              "    }\n",
              "\n",
              "    .dataframe tbody tr th {\n",
              "        vertical-align: top;\n",
              "    }\n",
              "\n",
              "    .dataframe thead th {\n",
              "        text-align: right;\n",
              "    }\n",
              "</style>\n",
              "<table border=\"1\" class=\"dataframe\">\n",
              "  <thead>\n",
              "    <tr style=\"text-align: right;\">\n",
              "      <th>sexo_raca</th>\n",
              "      <th>ano</th>\n",
              "      <th>Homem Branco</th>\n",
              "      <th>Homem Negro</th>\n",
              "      <th>Mulher Branca</th>\n",
              "      <th>Mulher Negra</th>\n",
              "    </tr>\n",
              "  </thead>\n",
              "  <tbody>\n",
              "    <tr>\n",
              "      <th>0</th>\n",
              "      <td>1999</td>\n",
              "      <td>6527.2</td>\n",
              "      <td>4768.7</td>\n",
              "      <td>5261.6</td>\n",
              "      <td>4010.0</td>\n",
              "    </tr>\n",
              "    <tr>\n",
              "      <th>1</th>\n",
              "      <td>2000</td>\n",
              "      <td>5690.3</td>\n",
              "      <td>4151.7</td>\n",
              "      <td>4887.3</td>\n",
              "      <td>3782.5</td>\n",
              "    </tr>\n",
              "    <tr>\n",
              "      <th>2</th>\n",
              "      <td>2001</td>\n",
              "      <td>5833.8</td>\n",
              "      <td>4107.2</td>\n",
              "      <td>4997.5</td>\n",
              "      <td>3734.5</td>\n",
              "    </tr>\n",
              "    <tr>\n",
              "      <th>3</th>\n",
              "      <td>2002</td>\n",
              "      <td>6407.0</td>\n",
              "      <td>4489.6</td>\n",
              "      <td>5429.7</td>\n",
              "      <td>4069.7</td>\n",
              "    </tr>\n",
              "    <tr>\n",
              "      <th>4</th>\n",
              "      <td>2003</td>\n",
              "      <td>6133.3</td>\n",
              "      <td>4297.4</td>\n",
              "      <td>5171.9</td>\n",
              "      <td>3856.7</td>\n",
              "    </tr>\n",
              "  </tbody>\n",
              "</table>\n",
              "</div>\n",
              "      <button class=\"colab-df-convert\" onclick=\"convertToInteractive('df-967c7bef-dd43-46bb-b89f-ca98c5cf9b53')\"\n",
              "              title=\"Convert this dataframe to an interactive table.\"\n",
              "              style=\"display:none;\">\n",
              "        \n",
              "  <svg xmlns=\"http://www.w3.org/2000/svg\" height=\"24px\"viewBox=\"0 0 24 24\"\n",
              "       width=\"24px\">\n",
              "    <path d=\"M0 0h24v24H0V0z\" fill=\"none\"/>\n",
              "    <path d=\"M18.56 5.44l.94 2.06.94-2.06 2.06-.94-2.06-.94-.94-2.06-.94 2.06-2.06.94zm-11 1L8.5 8.5l.94-2.06 2.06-.94-2.06-.94L8.5 2.5l-.94 2.06-2.06.94zm10 10l.94 2.06.94-2.06 2.06-.94-2.06-.94-.94-2.06-.94 2.06-2.06.94z\"/><path d=\"M17.41 7.96l-1.37-1.37c-.4-.4-.92-.59-1.43-.59-.52 0-1.04.2-1.43.59L10.3 9.45l-7.72 7.72c-.78.78-.78 2.05 0 2.83L4 21.41c.39.39.9.59 1.41.59.51 0 1.02-.2 1.41-.59l7.78-7.78 2.81-2.81c.8-.78.8-2.07 0-2.86zM5.41 20L4 18.59l7.72-7.72 1.47 1.35L5.41 20z\"/>\n",
              "  </svg>\n",
              "      </button>\n",
              "      \n",
              "  <style>\n",
              "    .colab-df-container {\n",
              "      display:flex;\n",
              "      flex-wrap:wrap;\n",
              "      gap: 12px;\n",
              "    }\n",
              "\n",
              "    .colab-df-convert {\n",
              "      background-color: #E8F0FE;\n",
              "      border: none;\n",
              "      border-radius: 50%;\n",
              "      cursor: pointer;\n",
              "      display: none;\n",
              "      fill: #1967D2;\n",
              "      height: 32px;\n",
              "      padding: 0 0 0 0;\n",
              "      width: 32px;\n",
              "    }\n",
              "\n",
              "    .colab-df-convert:hover {\n",
              "      background-color: #E2EBFA;\n",
              "      box-shadow: 0px 1px 2px rgba(60, 64, 67, 0.3), 0px 1px 3px 1px rgba(60, 64, 67, 0.15);\n",
              "      fill: #174EA6;\n",
              "    }\n",
              "\n",
              "    [theme=dark] .colab-df-convert {\n",
              "      background-color: #3B4455;\n",
              "      fill: #D2E3FC;\n",
              "    }\n",
              "\n",
              "    [theme=dark] .colab-df-convert:hover {\n",
              "      background-color: #434B5C;\n",
              "      box-shadow: 0px 1px 3px 1px rgba(0, 0, 0, 0.15);\n",
              "      filter: drop-shadow(0px 1px 2px rgba(0, 0, 0, 0.3));\n",
              "      fill: #FFFFFF;\n",
              "    }\n",
              "  </style>\n",
              "\n",
              "      <script>\n",
              "        const buttonEl =\n",
              "          document.querySelector('#df-967c7bef-dd43-46bb-b89f-ca98c5cf9b53 button.colab-df-convert');\n",
              "        buttonEl.style.display =\n",
              "          google.colab.kernel.accessAllowed ? 'block' : 'none';\n",
              "\n",
              "        async function convertToInteractive(key) {\n",
              "          const element = document.querySelector('#df-967c7bef-dd43-46bb-b89f-ca98c5cf9b53');\n",
              "          const dataTable =\n",
              "            await google.colab.kernel.invokeFunction('convertToInteractive',\n",
              "                                                     [key], {});\n",
              "          if (!dataTable) return;\n",
              "\n",
              "          const docLinkHtml = 'Like what you see? Visit the ' +\n",
              "            '<a target=\"_blank\" href=https://colab.research.google.com/notebooks/data_table.ipynb>data table notebook</a>'\n",
              "            + ' to learn more about interactive tables.';\n",
              "          element.innerHTML = '';\n",
              "          dataTable['output_type'] = 'display_data';\n",
              "          await google.colab.output.renderOutput(dataTable, element);\n",
              "          const docLink = document.createElement('div');\n",
              "          docLink.innerHTML = docLinkHtml;\n",
              "          element.appendChild(docLink);\n",
              "        }\n",
              "      </script>\n",
              "    </div>\n",
              "  </div>\n",
              "  "
            ]
          },
          "metadata": {},
          "execution_count": 9
        }
      ]
    },
    {
      "cell_type": "code",
      "source": [
        "#criação de colunas adcionar com os totais de salários desagregado por sexo\n",
        "df['salarios_homens'] = df['Homem Branco'] + df['Homem Negro']\n",
        "df['salarios_mulheres'] = df['Mulher Branca'] + df['Mulher Negra']"
      ],
      "metadata": {
        "id": "1hoXmlOXqni6"
      },
      "execution_count": 10,
      "outputs": []
    },
    {
      "cell_type": "code",
      "source": [
        "#criação de colunas adcionar com os totais de salários desagregado por segmentação racial\n",
        "\n",
        "df['salarios_negro'] = df['Mulher Negra'] + df['Homem Negro']\n",
        "df['salarios_brancos'] = df['Mulher Branca'] + df['Homem Branco']\n"
      ],
      "metadata": {
        "id": "HBfYenWCq93r"
      },
      "execution_count": 11,
      "outputs": []
    },
    {
      "cell_type": "code",
      "source": [
        "#cálculo da diferença salarial entre os extratos analisado:\n",
        "\n",
        "#1-diferença salarial entre brancos e negros\n",
        "df['diferenca_branco_negros'] = df['salarios_brancos'] - df['salarios_negro']\n",
        "\n",
        "#2-diferença salarial entre mulheres brancas e mulheres negras\n",
        "df['diferenca_mulheres_branca_negra'] = df['Mulher Branca'] - df['Mulher Negra']\n",
        "\n",
        "#3-diferença salarial entre homens brancos e homens negros\n",
        "df['diferenca_homens_branco_negro'] = df['Homem Branco'] - df['Homem Negro']\n",
        "\n",
        "#4-diferença salarial entre homens  e mulheres independente de raça\n",
        "df['diferenca_homens_mulheres'] = df['salarios_homens'] - df['salarios_mulheres']"
      ],
      "metadata": {
        "id": "bG0pixTwq-Z0"
      },
      "execution_count": 12,
      "outputs": []
    },
    {
      "cell_type": "code",
      "source": [
        "#cálculo da diferença percentual salarial entre os extratos analisado:\n",
        "\n",
        "#1-diferença percentual salarial entre brancos e negros\n",
        "df['percentual_diferenca_homens_branco_negro']  = (df['diferenca_homens_branco_negro']*100)/df['Homem Branco']\n",
        "\n",
        "#2-diferença percentual salarial entre mulheres brancas e mulheres negras\n",
        "df['percentual_diferenca_mulheres_branca_negra']  = (df['diferenca_mulheres_branca_negra']*100)/df['Mulher Branca']\n",
        "\n",
        "#3-diferença percentual salarial entre homens brancos e homens negros\n",
        "df['percentual_diferenca_brancos_negros']  = (df['diferenca_branco_negros']*100)/df['salarios_brancos']\n",
        "\n",
        "#4-diferença percentual salarial entre homens  e mulheres independente de raça\n",
        "df['percentual_diferenca_homens_mulheres']  = (df['diferenca_homens_mulheres']*100)/df['salarios_homens']\n"
      ],
      "metadata": {
        "id": "IC4pIOG6rNzw"
      },
      "execution_count": 13,
      "outputs": []
    },
    {
      "cell_type": "code",
      "source": [
        "#média total da diferença percentual salarial entre homens  e mulheres independente de raça\n",
        "\n",
        "df['percentual_diferenca_homens_mulheres'].mean()\n"
      ],
      "metadata": {
        "colab": {
          "base_uri": "https://localhost:8080/"
        },
        "id": "9Q-5rkIuVKUA",
        "outputId": "0509bf29-ffda-46d9-88d0-afc7facde2bb"
      },
      "execution_count": 14,
      "outputs": [
        {
          "output_type": "execute_result",
          "data": {
            "text/plain": [
              "11.111403998847578"
            ]
          },
          "metadata": {},
          "execution_count": 14
        }
      ]
    },
    {
      "cell_type": "code",
      "source": [
        "#média total da diferença percentual salarial entre mulheres brancas e mulheres negras\n",
        "\n",
        "df['percentual_diferenca_mulheres_branca_negra'].mean()\n"
      ],
      "metadata": {
        "colab": {
          "base_uri": "https://localhost:8080/"
        },
        "id": "npJVDNRjVWSF",
        "outputId": "6b4556b5-dacd-4c7c-b437-a78c80ca7a9d"
      },
      "execution_count": 15,
      "outputs": [
        {
          "output_type": "execute_result",
          "data": {
            "text/plain": [
              "24.580371496730002"
            ]
          },
          "metadata": {},
          "execution_count": 15
        }
      ]
    },
    {
      "cell_type": "code",
      "source": [
        "\n",
        "#média total da diferença percentual salarial entre homens brancos e homens negros\n",
        "df['percentual_diferenca_homens_branco_negro'].mean()\n"
      ],
      "metadata": {
        "colab": {
          "base_uri": "https://localhost:8080/"
        },
        "id": "rzeGpRCRVZEm",
        "outputId": "3c9d6d38-ed63-4271-89cc-eee40df71d21"
      },
      "execution_count": 16,
      "outputs": [
        {
          "output_type": "execute_result",
          "data": {
            "text/plain": [
              "29.36335282353782"
            ]
          },
          "metadata": {},
          "execution_count": 16
        }
      ]
    },
    {
      "cell_type": "code",
      "source": [
        "#média total da diferença percentual salarial entre brancos e negros\n",
        "df['percentual_diferenca_brancos_negros'].mean()"
      ],
      "metadata": {
        "colab": {
          "base_uri": "https://localhost:8080/"
        },
        "id": "NfZ4UH__VafO",
        "outputId": "29f3b9e2-7ff0-4cf0-891d-941c830196f1"
      },
      "execution_count": 17,
      "outputs": [
        {
          "output_type": "execute_result",
          "data": {
            "text/plain": [
              "27.143775411927002"
            ]
          },
          "metadata": {},
          "execution_count": 17
        }
      ]
    },
    {
      "cell_type": "code",
      "source": [
        "#geração de gráfico com o comparativo de salários entre homens e mulheres\n",
        "df.plot(x=\"ano\", y=[\"salarios_homens\", \"salarios_mulheres\"], kind=\"bar\")\n"
      ],
      "metadata": {
        "colab": {
          "base_uri": "https://localhost:8080/",
          "height": 320
        },
        "id": "09Pjrs16pXKz",
        "outputId": "d9ae1560-b8ba-4679-ea0b-fd65f6d31fd1"
      },
      "execution_count": 30,
      "outputs": [
        {
          "output_type": "execute_result",
          "data": {
            "text/plain": [
              "<matplotlib.axes._subplots.AxesSubplot at 0x7fd716817850>"
            ]
          },
          "metadata": {},
          "execution_count": 30
        },
        {
          "output_type": "display_data",
          "data": {
            "text/plain": [
              "<Figure size 432x288 with 1 Axes>"
            ],
            "image/png": "[encoded data removed]"
          },
          "metadata": {}
        }
      ]
    },
    {
      "cell_type": "code",
      "source": [
        "#geração de gráfico com o comparativo de salários entre negros e brancos\n",
        "df.plot(x=\"ano\", y=[\"salarios_brancos\", \"salarios_negro\"], kind=\"bar\")\n"
      ],
      "metadata": {
        "colab": {
          "base_uri": "https://localhost:8080/",
          "height": 320
        },
        "id": "2xFFeZpkaww0",
        "outputId": "f85e3820-4ebc-4a1c-9437-bb2a95034210"
      },
      "execution_count": 32,
      "outputs": [
        {
          "output_type": "execute_result",
          "data": {
            "text/plain": [
              "<matplotlib.axes._subplots.AxesSubplot at 0x7fd71673e950>"
            ]
          },
          "metadata": {},
          "execution_count": 32
        },
        {
          "output_type": "display_data",
          "data": {
            "text/plain": [
              "<Figure size 432x288 with 1 Axes>"
            ],
            "image/png": "[encoded data removed]"
          },
          "metadata": {}
        }
      ]
    },
    {
      "cell_type": "code",
      "source": [
        "#geração de gráfico com o comparativo de salários entre homem negro e homem branco\n",
        "df.plot(x=\"ano\", y=[\"Homem Branco\", \"Homem Negro\"], kind=\"bar\")\n"
      ],
      "metadata": {
        "colab": {
          "base_uri": "https://localhost:8080/",
          "height": 320
        },
        "id": "eZftz2azci5r",
        "outputId": "571ed2ca-3da7-420d-b830-dce86c2e5ac7"
      },
      "execution_count": 33,
      "outputs": [
        {
          "output_type": "execute_result",
          "data": {
            "text/plain": [
              "<matplotlib.axes._subplots.AxesSubplot at 0x7fd71673b450>"
            ]
          },
          "metadata": {},
          "execution_count": 33
        },
        {
          "output_type": "display_data",
          "data": {
            "text/plain": [
              "<Figure size 432x288 with 1 Axes>"
            ],
            "image/png": "[encoded data removed]"
          },
          "metadata": {}
        }
      ]
    },
    {
      "cell_type": "code",
      "source": [
        "#geração de gráfico com o comparativo de salários entre mulher negra e mulher branca\n",
        "df.plot(x=\"ano\", y=[\"Mulher Branca\", \"Mulher Negra\"], kind=\"bar\")\n"
      ],
      "metadata": {
        "colab": {
          "base_uri": "https://localhost:8080/",
          "height": 320
        },
        "id": "e5U38hCFcsPA",
        "outputId": "83031bf5-ffaf-4e80-b5af-9706186d5680"
      },
      "execution_count": 34,
      "outputs": [
        {
          "output_type": "execute_result",
          "data": {
            "text/plain": [
              "<matplotlib.axes._subplots.AxesSubplot at 0x7fd7164ca390>"
            ]
          },
          "metadata": {},
          "execution_count": 34
        },
        {
          "output_type": "display_data",
          "data": {
            "text/plain": [
              "<Figure size 432x288 with 1 Axes>"
            ],
            "image/png": "[encoded data removed]"
          },
          "metadata": {}
        }
      ]
    },
    {
      "cell_type": "code",
      "source": [
        ""
      ],
      "metadata": {
        "id": "kOaBn74Pcbs7"
      },
      "execution_count": null,
      "outputs": []
    }
  ]
}